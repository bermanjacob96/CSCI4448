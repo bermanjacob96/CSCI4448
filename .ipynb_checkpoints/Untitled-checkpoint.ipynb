{
 "cells": [
  {
   "cell_type": "code",
   "execution_count": 59,
   "metadata": {},
   "outputs": [
    {
     "name": "stdout",
     "output_type": "stream",
     "text": [
      "Number of shapes in the database: 5\n",
      "There is a Triangle at (15, 20, 4) of height 8\n",
      "There is a Cirlce at (5, 10, 8) of radius 2\n",
      "There is a Triangle at (5, 10, 12) of height 10\n",
      "There is a Cirlce at (17, 20, 15) of radius 11\n",
      "There is a Square at (25, 30, 32) of length 28\n"
     ]
    }
   ],
   "source": [
    "#Jacob Berman\n",
    "#CSCI 4448 Problem 4\n",
    "#Date: 02/01/2019\n",
    "#Shapes\n",
    "\n",
    "class Shape:\n",
    "    def __init__(self, x, y, z):\n",
    "        self.cords = (x,y,z)\n",
    "        self.z = z\n",
    "        self.shapeName = None\n",
    "    def getZ(self):\n",
    "        return self.z\n",
    "    def displayShape(self):\n",
    "        s = \"There is a \" + str(self.shapeName) + ' at ' + str(self.cords)\n",
    "        return s\n",
    "    \n",
    "class Circle(Shape):\n",
    "    def __init__(self, x, y, z, r):\n",
    "        Shape.__init__(self, x, y, z)\n",
    "        self.r = r\n",
    "        self.shapeName = \"Cirlce\"\n",
    "    def displayShape(self):\n",
    "        s = Shape.displayShape(self)\n",
    "        s += ' of radius ' + str(self.r)\n",
    "        print(s)\n",
    "        \n",
    "class Triangle(Shape):\n",
    "    def __init__(self, x, y, z, h):\n",
    "        Shape.__init__(self, x, y, z)\n",
    "        self.h = h\n",
    "        self.shapeName = \"Triangle\"\n",
    "    def displayShape(self):\n",
    "        s = Shape.displayShape(self)\n",
    "        s += ' of height ' + str(self.h)\n",
    "        print(s)\n",
    "        \n",
    "class Square(Shape):\n",
    "    def __init__(self, x, y, z, l):\n",
    "        Shape.__init__(self, x, y, z)\n",
    "        self.l = l\n",
    "        self.shapeName = \"Square\"\n",
    "    def displayShape(self):\n",
    "        s = Shape.displayShape(self)\n",
    "        s += ' of length ' + str(self.l)\n",
    "        print(s)\n",
    "\n",
    "def sortZ(shape):\n",
    "    return shape.getZ()\n",
    "\n",
    "def displayInfo():\n",
    "    db = [Circle(5, 10, 8, 2), Triangle(5, 10, 12, 10), Triangle(15, 20, 4, 8), Square(25, 30, 32, 28), Circle(17, 20, 15, 11)]\n",
    "    numShapes = len(db)\n",
    "    print(\"Number of shapes in the database:\", (numShapes))\n",
    "    \n",
    "    db.sort(key=sortZ)\n",
    "    \n",
    "    for shape in db:\n",
    "        shape.displayShape()\n",
    "\n",
    "displayInfo()"
   ]
  },
  {
   "cell_type": "code",
   "execution_count": null,
   "metadata": {},
   "outputs": [],
   "source": []
  }
 ],
 "metadata": {
  "kernelspec": {
   "display_name": "Python 3",
   "language": "python",
   "name": "python3"
  },
  "language_info": {
   "codemirror_mode": {
    "name": "ipython",
    "version": 3
   },
   "file_extension": ".py",
   "mimetype": "text/x-python",
   "name": "python",
   "nbconvert_exporter": "python",
   "pygments_lexer": "ipython3",
   "version": "3.6.4"
  }
 },
 "nbformat": 4,
 "nbformat_minor": 2
}
